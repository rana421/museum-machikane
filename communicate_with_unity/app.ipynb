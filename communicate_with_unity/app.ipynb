{
 "cells": [
  {
   "cell_type": "code",
   "execution_count": null,
   "metadata": {},
   "outputs": [],
   "source": [
    "# PythonとUnity(C#)の通信を行う\n",
    "\n",
    "# TCP通信(https://note.com/takataok/n/n09e46ef47475)\n",
    "# websocket通信()\n",
    "# 参考：https://jump1268.hatenablog.com/entry/2018/11/25/143459"
   ]
  },
  {
   "cell_type": "code",
   "execution_count": 4,
   "metadata": {},
   "outputs": [
    {
     "name": "stdout",
     "output_type": "stream",
     "text": [
      "Hello, Alice!\n",
      "I heard you're 30 years old.\n",
      "That's awesome!\n"
     ]
    }
   ],
   "source": [
    "import textwrap\n",
    "\n",
    "def greet(name, age):\n",
    "    message = f\"\"\"\n",
    "    Hello, {name}!\n",
    "    I heard you're {age} years old.\n",
    "    That's awesome!\n",
    "    \"\"\"\n",
    "    return textwrap.dedent(message).strip()\n",
    "\n",
    "print(greet(\"Alice\", 30))"
   ]
  },
  {
   "cell_type": "code",
   "execution_count": 8,
   "metadata": {},
   "outputs": [
    {
     "name": "stdout",
     "output_type": "stream",
     "text": [
      "上記のキーワードをもとに検索した結果、以下の4個の展示が検索エンジンから提案されました。\n",
      "a\n",
      "b\n",
      "c\n",
      "d\n",
      "\n",
      "この4個の展示からひとつ来客者様に対して提案しようと思うのですが、\n",
      "これらの情報と来客者様からの入力をもとに、来客者様の入力に対してフレンドリーな返答をしてください。\n",
      "来客者様の考えを読み取り、来客者様が聞いて楽しいような返答を心がけてください。この返答が来客者様に読まれます。\n",
      "返答は、文の終わり（。や.の後など）は改行を行ってください。\n",
      "出力はJSON形式で行ってください。\n"
     ]
    }
   ],
   "source": [
    "def a():\n",
    "    def b():\n",
    "        exhibition_count = 4\n",
    "        exhibition_text = \"a\\nb\\nc\\nd\\n\"\n",
    "        third_msg = f\"\"\"\n",
    "        上記のキーワードをもとに検索した結果、以下の{exhibition_count}個の展示が検索エンジンから提案されました。\n",
    "        {exhibition_text}\n",
    "        この{exhibition_count}個の展示からひとつ来客者様に対して提案しようと思うのですが、\n",
    "        これらの情報と来客者様からの入力をもとに、来客者様の入力に対してフレンドリーな返答をしてください。\n",
    "        来客者様の考えを読み取り、来客者様が聞いて楽しいような返答を心がけてください。この返答が来客者様に読まれます。\n",
    "        返答は、文の終わり（。や.の後など）は改行を行ってください。\n",
    "        出力はJSON形式で行ってください。\n",
    "        \"\"\"\n",
    "        return third_msg.replace(\"    \", \"\").strip()\n",
    "\n",
    "    return b()\n",
    "\n",
    "print(a())"
   ]
  },
  {
   "cell_type": "code",
   "execution_count": 4,
   "metadata": {},
   "outputs": [
    {
     "name": "stdout",
     "output_type": "stream",
     "text": [
      "こんにちは！私はAIアシスタントです。\n",
      "\n",
      "私はオープンAIが開発したAIで、ユーザーの質問に回答したり、タスクを支援したりすることができます。私の目的は、ユーザーのニーズに合わせて役立つ情報やサポートを提供することです。\n",
      "\n",
      "私は自然言語処理技術を使っており、様々なトピックに関する知識を持っています。旅行や料理、科学、文化、歴史など、さまざまな分野についての質問に答えることができます。\n",
      "\n",
      "私は24時間365日稼働しているため、いつでも質問やお手伝いをすることができます。お気軽にどんな質問でもしてください。よろしくお願いします！"
     ]
    }
   ],
   "source": [
    "# chatgptのstream処理を試す\n",
    "import openai\n",
    "from openai.embeddings_utils import cosine_similarity\n",
    "import os,json\n",
    "\n",
    "# .envファイルから環境変数を読み込む\n",
    "from dotenv import load_dotenv\n",
    "dotenv_path = '../.env'\n",
    "load_dotenv(dotenv_path)\n",
    "\n",
    "def chat(message):\n",
    "    messages = [\n",
    "        {\"role\": \"user\", \"content\": message}\n",
    "    ]\n",
    "\n",
    "    response = openai.ChatCompletion.create(\n",
    "        model=\"gpt-3.5-turbo\",\n",
    "        messages=messages,\n",
    "        stream=True,\n",
    "    )\n",
    "\n",
    "    response_text = \"\"\n",
    "    for chunk in response:\n",
    "        if chunk:\n",
    "            content = chunk['choices'][0]['delta'].get('content')\n",
    "            if content:\n",
    "                response_text += content\n",
    "                yield content\n",
    "\n",
    "messages = []\n",
    "for talk in chat('こんにちは。自己紹介してください。'):\n",
    "    print(talk, end='')"
   ]
  },
  {
   "cell_type": "code",
   "execution_count": 7,
   "metadata": {},
   "outputs": [
    {
     "data": {
      "text/plain": [
       "True"
      ]
     },
     "execution_count": 7,
     "metadata": {},
     "output_type": "execute_result"
    }
   ],
   "source": [
    "with open(\"./audio/test.wav\", mode=\"rb\") as f:\n",
    "    audio = f.read()\n",
    "\n",
    "type(audio) == bytes"
   ]
  },
  {
   "cell_type": "code",
   "execution_count": 2,
   "metadata": {},
   "outputs": [
    {
     "name": "stdout",
     "output_type": "stream",
     "text": [
      "Prams: _wave_params(nchannels=2, sampwidth=2, framerate=44100, nframes=173754, comptype='NONE', compname='not compressed')\n",
      "Sampling rate: 44100\n",
      "Frame num: 173754\n",
      "Sec: 3.94\n",
      "Samplewidth: 2\n",
      "Channel num: 2\n",
      "[ 30930 -20417  32767 ...   -205    281    325]\n"
     ]
    }
   ],
   "source": [
    "import wave\n",
    "import numpy as np\n",
    "from numpy import frombuffer\n",
    "\n",
    "\n",
    "readfilename = \"./audio/test.wav\"\n",
    "writefilename = \"./audio/tmp.wav\"\n",
    "with wave.open(readfilename, \"rb\") as wr:\n",
    "    # data information\n",
    "    params = wr.getparams()\n",
    "    print(\"Prams:\", params)\n",
    "    ch_num, sampwidth, fr, frame_num, comptype, compname = params\n",
    "    print(\"Sampling rate:\", fr)\n",
    "    print(\"Frame num:\", frame_num)\n",
    "    print(\"Sec:\", frame_num / fr)\n",
    "    print(\"Samplewidth:\", sampwidth)\n",
    "    print(\"Channel num:\", ch_num)\n",
    "    # read wavedata as binary format\n",
    "\n",
    "    binary_data = wr.readframes(wr.getnframes())\n",
    "    # convert bibary to numpy array\n",
    "    if sampwidth == 2:\n",
    "        width_dtype = \"int16\"\n",
    "    elif sampwidth == 4:\n",
    "        width_dtype = \"int32\"\n",
    "    num_data = frombuffer(binary_data, dtype = width_dtype)\n",
    "    print(num_data)\n",
    "\n",
    "# write wavefiles\n",
    "with wave.open(writefilename, \"wb\") as ww:\n",
    "    ww.setparams(params)\n",
    "    #convert numpy arrays to binary format\n",
    "    write_binary_data = num_data.tobytes()\n",
    "    ww.writeframes(binary_data)"
   ]
  },
  {
   "cell_type": "code",
   "execution_count": 24,
   "metadata": {},
   "outputs": [
    {
     "data": {
      "text/plain": [
       "dict_values([2, 2, 44100, 173754, 'NONE', 'not compressed'])"
      ]
     },
     "execution_count": 24,
     "metadata": {},
     "output_type": "execute_result"
    }
   ],
   "source": [
    "params._asdict().values()"
   ]
  },
  {
   "cell_type": "code",
   "execution_count": 27,
   "metadata": {},
   "outputs": [
    {
     "data": {
      "text/plain": [
       "_wave_params(nchannels=2, sampwidth=2, framerate=44100, nframes=173754, comptype='NONE', compname='not compressed')"
      ]
     },
     "execution_count": 27,
     "metadata": {},
     "output_type": "execute_result"
    }
   ],
   "source": [
    "wave._wave_params(*params._asdict().values())"
   ]
  },
  {
   "cell_type": "code",
   "execution_count": 1,
   "metadata": {},
   "outputs": [
    {
     "name": "stdout",
     "output_type": "stream",
     "text": [
      "<class 'bytes'>\n"
     ]
    }
   ],
   "source": [
    "# ファイルをバイナリモードで開く\n",
    "readfilename = \"./audio/test.wav\"\n",
    "with open(readfilename, 'rb') as file:\n",
    "    # ファイルの内容を読み込む\n",
    "    binary_data = file.read()\n",
    "\n",
    "# binary_dataにはwavファイルのバイナリデータが格納されています。\n",
    "print(type(binary_data))"
   ]
  }
 ],
 "metadata": {
  "kernelspec": {
   "display_name": ".venv",
   "language": "python",
   "name": "python3"
  },
  "language_info": {
   "codemirror_mode": {
    "name": "ipython",
    "version": 3
   },
   "file_extension": ".py",
   "mimetype": "text/x-python",
   "name": "python",
   "nbconvert_exporter": "python",
   "pygments_lexer": "ipython3",
   "version": "3.10.6"
  }
 },
 "nbformat": 4,
 "nbformat_minor": 2
}
