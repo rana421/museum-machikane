{
 "cells": [
  {
   "cell_type": "code",
   "execution_count": null,
   "metadata": {},
   "outputs": [],
   "source": [
    "# PythonとUnity(C#)の通信を行う\n",
    "\n",
    "# TCP通信(https://note.com/takataok/n/n09e46ef47475)\n",
    "# websocket通信()\n",
    "# 参考：https://jump1268.hatenablog.com/entry/2018/11/25/143459"
   ]
  },
  {
   "cell_type": "code",
   "execution_count": 4,
   "metadata": {},
   "outputs": [
    {
     "name": "stdout",
     "output_type": "stream",
     "text": [
      "Hello, Alice!\n",
      "I heard you're 30 years old.\n",
      "That's awesome!\n"
     ]
    }
   ],
   "source": [
    "import textwrap\n",
    "\n",
    "def greet(name, age):\n",
    "    message = f\"\"\"\n",
    "    Hello, {name}!\n",
    "    I heard you're {age} years old.\n",
    "    That's awesome!\n",
    "    \"\"\"\n",
    "    return textwrap.dedent(message).strip()\n",
    "\n",
    "print(greet(\"Alice\", 30))"
   ]
  },
  {
   "cell_type": "code",
   "execution_count": 8,
   "metadata": {},
   "outputs": [
    {
     "name": "stdout",
     "output_type": "stream",
     "text": [
      "上記のキーワードをもとに検索した結果、以下の4個の展示が検索エンジンから提案されました。\n",
      "a\n",
      "b\n",
      "c\n",
      "d\n",
      "\n",
      "この4個の展示からひとつ来客者様に対して提案しようと思うのですが、\n",
      "これらの情報と来客者様からの入力をもとに、来客者様の入力に対してフレンドリーな返答をしてください。\n",
      "来客者様の考えを読み取り、来客者様が聞いて楽しいような返答を心がけてください。この返答が来客者様に読まれます。\n",
      "返答は、文の終わり（。や.の後など）は改行を行ってください。\n",
      "出力はJSON形式で行ってください。\n"
     ]
    }
   ],
   "source": [
    "def a():\n",
    "    def b():\n",
    "        exhibition_count = 4\n",
    "        exhibition_text = \"a\\nb\\nc\\nd\\n\"\n",
    "        third_msg = f\"\"\"\n",
    "        上記のキーワードをもとに検索した結果、以下の{exhibition_count}個の展示が検索エンジンから提案されました。\n",
    "        {exhibition_text}\n",
    "        この{exhibition_count}個の展示からひとつ来客者様に対して提案しようと思うのですが、\n",
    "        これらの情報と来客者様からの入力をもとに、来客者様の入力に対してフレンドリーな返答をしてください。\n",
    "        来客者様の考えを読み取り、来客者様が聞いて楽しいような返答を心がけてください。この返答が来客者様に読まれます。\n",
    "        返答は、文の終わり（。や.の後など）は改行を行ってください。\n",
    "        出力はJSON形式で行ってください。\n",
    "        \"\"\"\n",
    "        return third_msg.replace(\"    \", \"\").strip()\n",
    "\n",
    "    return b()\n",
    "\n",
    "print(a())"
   ]
  }
 ],
 "metadata": {
  "kernelspec": {
   "display_name": ".venv",
   "language": "python",
   "name": "python3"
  },
  "language_info": {
   "codemirror_mode": {
    "name": "ipython",
    "version": 3
   },
   "file_extension": ".py",
   "mimetype": "text/x-python",
   "name": "python",
   "nbconvert_exporter": "python",
   "pygments_lexer": "ipython3",
   "version": "3.10.6"
  }
 },
 "nbformat": 4,
 "nbformat_minor": 2
}
