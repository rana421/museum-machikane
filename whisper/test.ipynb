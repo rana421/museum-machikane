{
 "cells": [
  {
   "cell_type": "code",
   "execution_count": null,
   "metadata": {},
   "outputs": [],
   "source": [
    "# Whisperを使ったリアルタイム音声認識と字幕描画方法の紹介 https://knowledge.sakura.ad.jp/34497/\n"
   ]
  },
  {
   "cell_type": "code",
   "execution_count": 5,
   "metadata": {},
   "outputs": [
    {
     "name": "stderr",
     "output_type": "stream",
     "text": [
      "100%|█████████████████████████████████████| 72.1M/72.1M [00:01<00:00, 58.4MiB/s]\n"
     ]
    },
    {
     "name": "stdout",
     "output_type": "stream",
     "text": [
      "さて早くに想像さえ替えされた甘済の工場なんですけれども、そのこの防災対策という事ではどのような事を進められたんでしょうか。具体的な対策としてまず、工場内の決心対策を共和しました。機会をアンカーボルドで固定したり、単位はキャグネットの展統防止、単位を行ってある自動工具の中防止を復定させました。単位には水と食料を振りた防災用品を道具し、再任の安定確認のための連絡対策もととなりました。また、甘済の販売局の大臓の防災団等根に甘なきし、単位の防災強弾や防災マニアルの作成なども進めました。などほど、まさにソフト面ハード面両方で色々な対策を進められたということですよね。そして、前としハルと秋には単位の防災困電を行っています。特に秋の困電は全社上げての大きなもので、警罭者、商房商の参加の元、橋保者による避難困電なども実施いたします。当者が普段から、商房商の組織の道にとってより、所活の北所防災から公主を埋まねきしての求明公主や組織にしております。昨年1月には、私自身も実際にできるがどうか少し不安がありましたので、リーニーの使い方や進化させます。私もエイディーの使い方が一回だけ講習を受けたのですが、やっぱり、1回やったことあるのとも、内側は全然違いもある。平日また、多くの方に受越していただきたいな、ともらう街の方に、おといを教えていただいたな、肖法序の方ですぐに受け付けいたし、よろしくお願いします。\n"
     ]
    }
   ],
   "source": [
    "#　ローカルでのwhisperの実行（GPU実行）\n",
    "import whisper\n",
    "\n",
    "UPLOAD_FOLDER = 'uploads'\n",
    "WHISPER_MODEL_NAME = 'tiny' # tiny, base, small, medium\n",
    "WHISPER_DEVICE = 'cuda' # cpu, cuda\n",
    "\n",
    "whisper_model = whisper.load_model(WHISPER_MODEL_NAME, device=WHISPER_DEVICE)\n",
    "\n",
    "filename = \"./audio/audio.wav\"\n",
    "\n",
    "result = whisper_model.transcribe(filename, language='ja')\n",
    "print(result[\"text\"])"
   ]
  },
  {
   "cell_type": "code",
   "execution_count": 2,
   "metadata": {},
   "outputs": [],
   "source": [
    "# API経由のwhisperのテスト\n",
    "import os\n",
    "from os.path import join, dirname\n",
    "#from dotenv import load_dotenv\n",
    "\n",
    "# dotenv_path = join(dirname(__file__), '../.env')\n",
    "#dotenv_path = '../.env'\n",
    "\n",
    "#load_dotenv(dotenv_path)\n",
    "\n",
    "OPENAI_API_KEY = os.environ.get(\"OPENAI_API_KEY\")\n",
    "\n",
    "\n",
    "import openai\n",
    "\n",
    "openai.api_key = OPENAI_API_KEY\n",
    "audio_file= open(\"./audio/audio.wav\", \"rb\")\n",
    "transcript = openai.Audio.transcribe(\"whisper-1\", audio_file, language=\"ja\")\n",
    "print(transcript[\"text\"])"
   ]
  },
  {
   "cell_type": "code",
   "execution_count": 27,
   "metadata": {},
   "outputs": [
    {
     "name": "stdout",
     "output_type": "stream",
     "text": [
      "芸術・美術\n",
      "宗教\n",
      "歴史・世界史・文化史\n",
      "社会科学\n",
      "諸芸・娯楽\n"
     ]
    }
   ],
   "source": [
    "import openai\n",
    "import os\n",
    "OPENAI_API_KEY = os.environ.get(\"OPENAI_API_KEY\")\n",
    "openai.api_key = OPENAI_API_KEY\n",
    "\n",
    "question = \"\"\"\n",
    "「\n",
    "ヒンドゥー教のあまたの神がみは、石や金属、土器、陶器などの立像、仮面、絵画や印刷物、タイル、刺繍、さらには絵本、コミック、切手やステッカーなど、さまざまなモノを通じて現れている。これらの神像は人々が五感を通じて神と交流するための重要な媒体となってきた。\n",
    "神像との交流の核心には神への「愛」がある。この「愛」には神に愛されるという受動的側面よりも、人が神に愛をもって接近するという能動的、主体的側面が強く表れている。人々はさまざまな神話を踏まえながら、親がいたずらな子を愛おしんだり、愛人が相手を熱烈に愛したり、あるいは忠実なしもべが主人に無償の奉仕をするように、神像に具体的に愛を捧げてきた。また、日常的な礼拝においても実際に神像を沐浴させたり、着飾らせたりするなど具体的な働きかけを通して神像を歓待し、願いを聞き届けて貰おうとしてきた。\n",
    "本展ではこの「神への愛」に基づいた、神と人との交流のさまざまなかたちの展示を中心に据える。具体的には現代インドで特に人気のある神々の神話を表現した図像の展示や神像への働きかけ方がわかる資料（神像の個別的なデコレーション、身体的感覚が発揮される儀礼用具などの展示や、儀礼の実際を取材した映像や写真画像など）を展示。それらを通じて、多神教的なヒンドゥー教世界や、そこに登場する弱みや欲望も合わせもった神がみの存在が紹介される。こういった神像はインドやネパールだけではなく、日本やヨーロッパでも制作され、ヒンドゥー教の世界で用いられていた。本展では南アジアの外の世界で作られた神像も展示し、信仰に関わるモノのグローバルな流通の一端も紹介する。\n",
    "」\n",
    "\n",
    "上記の説明は「交感する神と人―ヒンドゥー神像の世界」という美術展についての説明文です。\n",
    "この説明をもとに、この展示を日本十進分類で分類してください。\n",
    "日本十進分類では、展示は\n",
    "哲学\n",
    "宗教\n",
    "歴史・世界史・文化史\n",
    "地理・地誌・紀行\n",
    "社会科学\n",
    "自然科学\n",
    "医学・薬学\n",
    "技術・工学\n",
    "家政学・生活科学\n",
    "産業\n",
    "芸術・美術\n",
    "スポーツ・体育\n",
    "諸芸・娯楽\n",
    "言語\n",
    "文学\n",
    "\n",
    "に分類されます。\n",
    "できるだけ多くの、関連しているジャンルを選んでください。\n",
    "例えば陶器についての博物館は、芸術・美術だけでなく産業や技術・工学にも関連していると考えられます。\n",
    "\n",
    "出力は分類結果だけを表示してください。\n",
    "\n",
    "\"\"\"\n",
    "response = openai.ChatCompletion.create(\n",
    "    model=\"gpt-3.5-turbo\",\n",
    "    messages=[\n",
    "        {\"role\": \"user\", \"content\": question},\n",
    "    ],\n",
    ")\n",
    "print(response.choices[0][\"message\"][\"content\"].strip())"
   ]
  }
 ],
 "metadata": {
  "kernelspec": {
   "display_name": "Python 3",
   "language": "python",
   "name": "python3"
  },
  "language_info": {
   "codemirror_mode": {
    "name": "ipython",
    "version": 3
   },
   "file_extension": ".py",
   "mimetype": "text/x-python",
   "name": "python",
   "nbconvert_exporter": "python",
   "pygments_lexer": "ipython3",
   "version": "3.8.3"
  },
  "orig_nbformat": 4,
  "vscode": {
   "interpreter": {
    "hash": "40d3a090f54c6569ab1632332b64b2c03c39dcf918b08424e98f38b5ae0af88f"
   }
  }
 },
 "nbformat": 4,
 "nbformat_minor": 2
}
