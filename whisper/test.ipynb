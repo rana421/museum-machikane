{
 "cells": [
  {
   "cell_type": "code",
   "execution_count": null,
   "metadata": {},
   "outputs": [],
   "source": [
    "# Whisperを使ったリアルタイム音声認識と字幕描画方法の紹介 https://knowledge.sakura.ad.jp/34497/\n"
   ]
  },
  {
   "cell_type": "code",
   "execution_count": 5,
   "metadata": {},
   "outputs": [
    {
     "name": "stderr",
     "output_type": "stream",
     "text": [
      "100%|█████████████████████████████████████| 72.1M/72.1M [00:01<00:00, 58.4MiB/s]\n"
     ]
    },
    {
     "name": "stdout",
     "output_type": "stream",
     "text": [
      "さて早くに想像さえ替えされた甘済の工場なんですけれども、そのこの防災対策という事ではどのような事を進められたんでしょうか。具体的な対策としてまず、工場内の決心対策を共和しました。機会をアンカーボルドで固定したり、単位はキャグネットの展統防止、単位を行ってある自動工具の中防止を復定させました。単位には水と食料を振りた防災用品を道具し、再任の安定確認のための連絡対策もととなりました。また、甘済の販売局の大臓の防災団等根に甘なきし、単位の防災強弾や防災マニアルの作成なども進めました。などほど、まさにソフト面ハード面両方で色々な対策を進められたということですよね。そして、前としハルと秋には単位の防災困電を行っています。特に秋の困電は全社上げての大きなもので、警罭者、商房商の参加の元、橋保者による避難困電なども実施いたします。当者が普段から、商房商の組織の道にとってより、所活の北所防災から公主を埋まねきしての求明公主や組織にしております。昨年1月には、私自身も実際にできるがどうか少し不安がありましたので、リーニーの使い方や進化させます。私もエイディーの使い方が一回だけ講習を受けたのですが、やっぱり、1回やったことあるのとも、内側は全然違いもある。平日また、多くの方に受越していただきたいな、ともらう街の方に、おといを教えていただいたな、肖法序の方ですぐに受け付けいたし、よろしくお願いします。\n"
     ]
    }
   ],
   "source": [
    "#　ローカルでのwhisperの実行（GPU実行）\n",
    "import whisper\n",
    "\n",
    "UPLOAD_FOLDER = 'uploads'\n",
    "WHISPER_MODEL_NAME = 'tiny' # tiny, base, small, medium\n",
    "WHISPER_DEVICE = 'cuda' # cpu, cuda\n",
    "\n",
    "whisper_model = whisper.load_model(WHISPER_MODEL_NAME, device=WHISPER_DEVICE)\n",
    "\n",
    "filename = \"./audio/audio.wav\"\n",
    "\n",
    "result = whisper_model.transcribe(filename, language='ja')\n",
    "print(result[\"text\"])"
   ]
  },
  {
   "cell_type": "code",
   "execution_count": 2,
   "metadata": {},
   "outputs": [],
   "source": [
    "# API経由のwhisperのテスト\n",
    "import os\n",
    "from os.path import join, dirname\n",
    "#from dotenv import load_dotenv\n",
    "\n",
    "# dotenv_path = join(dirname(__file__), '../.env')\n",
    "#dotenv_path = '../.env'\n",
    "\n",
    "#load_dotenv(dotenv_path)\n",
    "\n",
    "OPENAI_API_KEY = os.environ.get(\"OPENAI_API_KEY\")\n",
    "\n",
    "\n",
    "import openai\n",
    "\n",
    "openai.api_key = OPENAI_API_KEY\n",
    "audio_file= open(\"./audio/audio.wav\", \"rb\")\n",
    "transcript = openai.Audio.transcribe(\"whisper-1\", audio_file, language=\"ja\")\n",
    "print(transcript[\"text\"])"
   ]
  },
  {
   "cell_type": "code",
   "execution_count": 2,
   "metadata": {},
   "outputs": [
    {
     "name": "stdout",
     "output_type": "stream",
     "text": [
      "芸術、美術\n"
     ]
    }
   ],
   "source": [
    "bunrui_list_2 = [\n",
    "    \"総記\", \"図書館、図書館情報学\", \"図書、書誌学\", \"百科事典、用語索引\", \"一般論文集、一般講演集、雑著\",\n",
    "    \"逐次刊行物、一般年鑑\", \"団体、博物館\", \"ジャーナリズム、新聞\", \"叢書、全集、選集\", \"貴重書、郷土資料、その他の特別コレクション\",\n",
    "    \"哲学\", \"哲学各論\", \"東洋思想\", \"西洋哲学\", \"心理学\", \"倫理学、道徳\", \"宗教\", \"神道\", \"仏教\", \"キリスト教、ユダヤ教\",\n",
    "    \"歴史、世界史、文化史\", \"日本史\", \"アジア史、東洋史\", \"ヨーロッパ史、西洋史\", \"アフリカ史\", \"北アメリカ史\", \"南アメリカ史\", \"オセアニア史、両極地方史\", \"伝記\", \"地理、地誌、紀行\",\n",
    "    \"社会科学\", \"政治\", \"法律\", \"経済\", \"財政\", \"統計\", \"社会\", \"教育\", \"風俗習慣、民俗学、民族学\", \"国防、軍事\",\n",
    "    \"自然科学\", \"数学\", \"物理学\", \"化学\", \"天文学、宇宙科学\", \"地球科学、地学\", \"生物科学、一般生物学\", \"植物学\", \"動物学\", \"医学、薬学\",\n",
    "    \"技術、工学\", \"建設工学、土木工学\", \"建築学\", \"機械工学、原子力工学\", \"電気工学\", \"海洋工学、船舶工学、兵器、軍事工学\", \"金属工学、鉱山工学\", \"化学工業\", \"製造工業\", \"家政学、生活科学\",\n",
    "    \"産業\", \"農業\", \"園芸、造園\", \"蚕糸業\", \"畜産業、獣医学\", \"林業、狩猟\", \"水産業\", \"商業\", \"運輸、交通、観光事業\", \"通信事業\",\n",
    "    \"芸術、美術\", \"彫刻、オブジェ\", \"絵画、書、書道\", \"版画、印章、篆刻、印譜\", \"写真、印刷\", \"工芸\", \"音楽、舞踊、バレエ\", \"演劇、映画、大衆芸能\", \"スポーツ、体育\", \"諸芸、娯楽\",\n",
    "    \"言語\", \"日本語\", \"中国語、その他の東洋の諸言語\", \"英語\", \"ドイツ語、その他のゲルマン諸語\", \"フランス語、プロバンス語\", \"スペイン語、ポルトガル語\", \"イタリア語、その他のロマンス諸語\", \"ロシア語、その他のスラブ諸語\", \"その他の諸言語\",\n",
    "    \"文学\", \"日本文学\", \"中国文学、その他の東洋文学\", \"英米文学\", \"ドイツ文学、その他のゲルマン文学\", \"フランス文学、プロバンス文学\", \"スペイン文学、ポルトガル文学\", \"イタリア文学、その他のロマンス文学\", \"ロシア・ソビエト文学、その他のスラブ文学\", \"その他の諸言語文学\"\n",
    "]\n",
    "\n",
    "print(bunrui_list_2[70])\n",
    "\n"
   ]
  },
  {
   "cell_type": "code",
   "execution_count": 3,
   "metadata": {},
   "outputs": [
    {
     "name": "stdout",
     "output_type": "stream",
     "text": [
      "歴史、世界史、文化史\n",
      "20 歴史、世界史、文化史は更に以下のように分けられます。\n",
      "21 日本史\n",
      "22 アジア史、東洋史\n",
      "23 ヨーロッパ史、西洋史\n",
      "24 アフリカ史\n",
      "25 北アメリカ史\n",
      "26 南アメリカ史\n",
      "27 オセアニア史、両極地方史\n",
      "28 伝記\n",
      "この展示を上記の分類をもとに更に分割してください。重複していても構いません。どれだけ多くても構いません。例えば陶器についての博物館は、芸術・美術だけでなく産業や技術・工学にも関連していると考えられます。じっくりどれに当てはまるのか考えてください。\n",
      "出力は分類結果だけを数字を用いて表示してください。例えば「16,49,78,79」のように記述してください。分類は,を使って区別してください。\n",
      "20,70\n",
      "芸術、美術\n",
      "70 芸術、美術は更に以下のように分けられます。\n",
      "71 彫刻、オブジェ\n",
      "72 絵画、書、書道\n",
      "73 版画、印章、篆刻、印譜\n",
      "74 写真、印刷\n",
      "75 工芸\n",
      "76 音楽、舞踊、バレエ\n",
      "77 演劇、映画、大衆芸能\n",
      "この展示を上記の分類をもとに更に分割してください。重複していても構いません。どれだけ多くても構いません。例えば陶器についての博物館は、芸術・美術だけでなく産業や技術・工学にも関連していると考えられます。じっくりどれに当てはまるのか考えてください。\n",
      "出力は分類結果だけを数字を用いて表示してください。例えば「16,49,78,79」のように記述してください。分類は,を使って区別してください。\n",
      "70,72,73\n",
      "[20, 70, 72, 73]\n",
      "ソート終了！！！\n",
      "以下に分類結果を表示します\n",
      "20 歴史、世界史、文化史\n",
      "70 芸術、美術\n",
      "72 絵画、書、書道\n",
      "73 版画、印章、篆刻、印譜\n"
     ]
    }
   ],
   "source": [
    "import openai\n",
    "import os\n",
    "OPENAI_API_KEY = os.environ.get(\"OPENAI_API_KEY\")\n",
    "openai.api_key = OPENAI_API_KEY\n",
    "\n",
    "\n",
    "def ask_bunrui_2(bunrui):\n",
    "    global bunrui_list_2\n",
    "    bunrui_index = int(bunrui) #indexになってたの忘れてた！！！\n",
    "    non_splitable_list =[29,49,59,78,79]\n",
    "    if bunrui_index in non_splitable_list :\n",
    "        #これらは第二次区分ではもう分割できない\n",
    "        #print(bunrui_index)\n",
    "        return -1\n",
    "    else:\n",
    "        ask_str = f\"{bunrui} {bunrui_list_2[bunrui_index]}は更に以下のように分けられます。\\n\"\n",
    "        count = bunrui_index + 1\n",
    "        while (count not in non_splitable_list )  and ( count not in  [0,10,20,30,40,50,60,70,80,90,100]):\n",
    "            #カウントが区切り出ないときはどんどん追加していく感じ\n",
    "            #print(count)\n",
    "            ask_str += str(count) + \" \"+bunrui_list_2[count] + \"\\n\"\n",
    "            count+=1\n",
    "        \n",
    "        ask_str += \"\"\"この展示を上記の分類をもとに更に分割してください。重複していても構いません。どれだけ多くても構いません。例えば陶器についての博物館は、芸術・美術だけでなく産業や技術・工学にも関連していると考えられます。じっくりどれに当てはまるのか考えてください。\n",
    "出力は分類結果だけを数字を用いて表示してください。例えば「16,49,78,79」のように記述してください。分類は,を使って区別してください。\"\"\"\n",
    "        \n",
    "        #print(ask_str)\n",
    "        return ask_str\n",
    "\n",
    "\n",
    "exhibition_describe = \"\"\"\n",
    "四日市ゆかりの木版画家・立原位貫（1951-2015）は、独学で江戸期浮世絵の魅力を現代に蘇らせ、さらにはオリジナルでも粋で個性的な作品を創り出しました。大英博物館に収蔵されるなど、世界に誇れる画家の足跡を辿り、その面白さ、美しさを紹介します。\n",
    "\"\"\"\n",
    "\n",
    "\n",
    "exhibition_name = \"開館30周年記念　特別展 立原位貫　〜想像力から創造力へ〜\"\n",
    "\n",
    "exhibition_keywords = \"\"\n",
    "question = f\"\"\"\n",
    "「\n",
    "{exhibition_describe}\n",
    "」\n",
    "\n",
    "上記の説明は「{exhibition_name}」という美術展についての説明文です。\n",
    "さらにこれを見た人が、この展示に関連したキーワードを以下に記載しました。（キーワードがない場合もあります。）\n",
    "「{exhibition_keywords}」\n",
    "この説明とキーワード・展示名をもとに、この展示を日本十進分類で分類してください。\n",
    "日本十進分類では、展示は\n",
    "10 哲学\n",
    "16 宗教\n",
    "20 歴史、世界史、文化史\n",
    "29 地理、地誌、紀行\n",
    "30 社会科学\n",
    "40 自然科学\n",
    "49 医学・薬学\n",
    "50 技術・工学\n",
    "59 家政学、生活科学\n",
    "60 産業\n",
    "70 芸術、美術\n",
    "78 スポーツ、体育\n",
    "79 諸芸、娯楽\n",
    "80 言語\n",
    "90 文学\n",
    "\n",
    "に分類されます。\n",
    "できるだけ多くの、関連しているジャンルを選んでください。重複していても構いません。どれだけ多くても構いません。\n",
    "例えば陶器についての博物館は、芸術・美術だけでなく産業や技術・工学にも関連していると考えられます。じっくりどれに当てはまるのか考えてください。\n",
    "\n",
    "出力は分類結果だけを数字を用いて表示してください。例えば「16,49,78,79」のように記述してください。\n",
    "分類は,を使って区別してください。\n",
    "\n",
    "\"\"\"\n",
    "\n",
    "bunrui_num_list = []\n",
    "messages = [{\"role\": \"user\", \"content\": question},]\n",
    "response = openai.ChatCompletion.create(\n",
    "    model=\"gpt-3.5-turbo\",\n",
    "    messages=messages ,\n",
    ")\n",
    "\n",
    "messages.append(response.choices[0][\"message\"])\n",
    "response  = response.choices[0][\"message\"][\"content\"].strip()\n",
    "\n",
    "\n",
    "#bunrui_1は１段階目の分類結果\n",
    "bunrui_1 = response.split(\",\")\n",
    "for bunrui in bunrui_1:\n",
    "    bunrui_num_list.append(int(bunrui)) #分類をリストに追加\n",
    "\n",
    "\n",
    "for bunrui in bunrui_1:\n",
    "    print(bunrui_list_2[int(bunrui)])\n",
    "    ask_str = ask_bunrui_2(bunrui)\n",
    "    if ask_str == -1:continue\n",
    "    print(ask_str)\n",
    "    messages.append({\"role\": \"user\", \"content\": ask_str },)\n",
    "    response = openai.ChatCompletion.create(\n",
    "    model=\"gpt-3.5-turbo\",\n",
    "    messages=messages ,\n",
    "    )\n",
    "    #messages.append(response.choices[0][\"message\"]) #ここおそらくいらない。正直分類を複数回行うときにはこれまでの履歴は必要ないような気がする。なのでmessageから上記のappendをpopする。\n",
    "    messages.pop(-1) #最後のやつはいらないのでpopして少しでも処理を軽くする！\n",
    "    response  = response.choices[0][\"message\"][\"content\"].strip()\n",
    "    print(response)\n",
    "\n",
    "    bunrui_2 = response.split(\",\")\n",
    "    for bunrui in bunrui_2:\n",
    "        bunrui_num_list.append(int(bunrui)) #分類をリストに追加\n",
    "\n",
    "bunrui_num_list = list(set(bunrui_num_list))#setで重複が消えるらしいが{}になるのでlist()を使ってリストに戻している＆sort()で昇順にソート\n",
    "bunrui_num_list = sorted(bunrui_num_list)\n",
    "print(bunrui_num_list)\n",
    "print(\"ソート終了！！！\")\n",
    "\n",
    "#以下に展示対象分類について追加する\n",
    "\n",
    "print(\"以下に分類結果を表示します\")\n",
    "for bunrui_num in bunrui_num_list:\n",
    "    print(str(bunrui_num) + \" \"+bunrui_list_2[bunrui_num])\n",
    "    #print(\"\\n\")\n"
   ]
  },
  {
   "cell_type": "code",
   "execution_count": 1,
   "metadata": {},
   "outputs": [
    {
     "ename": "InvalidRequestError",
     "evalue": "The model `gpt-4` does not exist or you do not have access to it. Learn more: https://help.openai.com/en/articles/7102672-how-can-i-access-gpt-4.",
     "output_type": "error",
     "traceback": [
      "\u001b[1;31m---------------------------------------------------------------------------\u001b[0m",
      "\u001b[1;31mInvalidRequestError\u001b[0m                       Traceback (most recent call last)",
      "\u001b[1;32mc:\\Users\\rtani\\OneDrive\\デスクトップ\\museum-machikane\\whisper\\test.ipynb Cell 6\u001b[0m line \u001b[0;36m3\n\u001b[0;32m     <a href='vscode-notebook-cell:/c%3A/Users/rtani/OneDrive/%E3%83%87%E3%82%B9%E3%82%AF%E3%83%88%E3%83%83%E3%83%97/museum-machikane/whisper/test.ipynb#W5sZmlsZQ%3D%3D?line=18'>19</a>\u001b[0m \u001b[39m#print(exhibitions_list_str)\u001b[39;00m\n\u001b[0;32m     <a href='vscode-notebook-cell:/c%3A/Users/rtani/OneDrive/%E3%83%87%E3%82%B9%E3%82%AF%E3%83%88%E3%83%83%E3%83%97/museum-machikane/whisper/test.ipynb#W5sZmlsZQ%3D%3D?line=20'>21</a>\u001b[0m question \u001b[39m=\u001b[39m \u001b[39mf\u001b[39m\u001b[39m\"\"\"\u001b[39m\n\u001b[0;32m     <a href='vscode-notebook-cell:/c%3A/Users/rtani/OneDrive/%E3%83%87%E3%82%B9%E3%82%AF%E3%83%88%E3%83%83%E3%83%97/museum-machikane/whisper/test.ipynb#W5sZmlsZQ%3D%3D?line=21'>22</a>\u001b[0m \u001b[39mあなたは日本の大阪府にいます。\u001b[39m\n\u001b[0;32m     <a href='vscode-notebook-cell:/c%3A/Users/rtani/OneDrive/%E3%83%87%E3%82%B9%E3%82%AF%E3%83%88%E3%83%83%E3%83%97/museum-machikane/whisper/test.ipynb#W5sZmlsZQ%3D%3D?line=22'>23</a>\u001b[0m \u001b[39mあなたは大阪大学ミュージアム同好会というサークルに所属しているロボットで、あなたの仕事はクライアントに言われた要求に最も近い展示を案内することです。\u001b[39m\n\u001b[1;32m   (...)\u001b[0m\n\u001b[0;32m     <a href='vscode-notebook-cell:/c%3A/Users/rtani/OneDrive/%E3%83%87%E3%82%B9%E3%82%AF%E3%83%88%E3%83%83%E3%83%97/museum-machikane/whisper/test.ipynb#W5sZmlsZQ%3D%3D?line=35'>36</a>\u001b[0m \n\u001b[0;32m     <a href='vscode-notebook-cell:/c%3A/Users/rtani/OneDrive/%E3%83%87%E3%82%B9%E3%82%AF%E3%83%88%E3%83%83%E3%83%97/museum-machikane/whisper/test.ipynb#W5sZmlsZQ%3D%3D?line=36'>37</a>\u001b[0m \u001b[39m\"\"\"\u001b[39m\n\u001b[1;32m---> <a href='vscode-notebook-cell:/c%3A/Users/rtani/OneDrive/%E3%83%87%E3%82%B9%E3%82%AF%E3%83%88%E3%83%83%E3%83%97/museum-machikane/whisper/test.ipynb#W5sZmlsZQ%3D%3D?line=37'>38</a>\u001b[0m response \u001b[39m=\u001b[39m openai\u001b[39m.\u001b[39;49mChatCompletion\u001b[39m.\u001b[39;49mcreate(\n\u001b[0;32m     <a href='vscode-notebook-cell:/c%3A/Users/rtani/OneDrive/%E3%83%87%E3%82%B9%E3%82%AF%E3%83%88%E3%83%83%E3%83%97/museum-machikane/whisper/test.ipynb#W5sZmlsZQ%3D%3D?line=38'>39</a>\u001b[0m     model\u001b[39m=\u001b[39;49m\u001b[39m\"\u001b[39;49m\u001b[39mgpt-4\u001b[39;49m\u001b[39m\"\u001b[39;49m,\n\u001b[0;32m     <a href='vscode-notebook-cell:/c%3A/Users/rtani/OneDrive/%E3%83%87%E3%82%B9%E3%82%AF%E3%83%88%E3%83%83%E3%83%97/museum-machikane/whisper/test.ipynb#W5sZmlsZQ%3D%3D?line=39'>40</a>\u001b[0m     messages\u001b[39m=\u001b[39;49m[\n\u001b[0;32m     <a href='vscode-notebook-cell:/c%3A/Users/rtani/OneDrive/%E3%83%87%E3%82%B9%E3%82%AF%E3%83%88%E3%83%83%E3%83%97/museum-machikane/whisper/test.ipynb#W5sZmlsZQ%3D%3D?line=40'>41</a>\u001b[0m         {\u001b[39m\"\u001b[39;49m\u001b[39mrole\u001b[39;49m\u001b[39m\"\u001b[39;49m: \u001b[39m\"\u001b[39;49m\u001b[39muser\u001b[39;49m\u001b[39m\"\u001b[39;49m, \u001b[39m\"\u001b[39;49m\u001b[39mcontent\u001b[39;49m\u001b[39m\"\u001b[39;49m: question},\n\u001b[0;32m     <a href='vscode-notebook-cell:/c%3A/Users/rtani/OneDrive/%E3%83%87%E3%82%B9%E3%82%AF%E3%83%88%E3%83%83%E3%83%97/museum-machikane/whisper/test.ipynb#W5sZmlsZQ%3D%3D?line=41'>42</a>\u001b[0m     ],\n\u001b[0;32m     <a href='vscode-notebook-cell:/c%3A/Users/rtani/OneDrive/%E3%83%87%E3%82%B9%E3%82%AF%E3%83%88%E3%83%83%E3%83%97/museum-machikane/whisper/test.ipynb#W5sZmlsZQ%3D%3D?line=42'>43</a>\u001b[0m )\n\u001b[0;32m     <a href='vscode-notebook-cell:/c%3A/Users/rtani/OneDrive/%E3%83%87%E3%82%B9%E3%82%AF%E3%83%88%E3%83%83%E3%83%97/museum-machikane/whisper/test.ipynb#W5sZmlsZQ%3D%3D?line=43'>44</a>\u001b[0m answer \u001b[39m=\u001b[39m response\u001b[39m.\u001b[39mchoices[\u001b[39m0\u001b[39m][\u001b[39m\"\u001b[39m\u001b[39mmessage\u001b[39m\u001b[39m\"\u001b[39m][\u001b[39m\"\u001b[39m\u001b[39mcontent\u001b[39m\u001b[39m\"\u001b[39m]\u001b[39m.\u001b[39mstrip()\n\u001b[0;32m     <a href='vscode-notebook-cell:/c%3A/Users/rtani/OneDrive/%E3%83%87%E3%82%B9%E3%82%AF%E3%83%88%E3%83%83%E3%83%97/museum-machikane/whisper/test.ipynb#W5sZmlsZQ%3D%3D?line=45'>46</a>\u001b[0m answer \u001b[39m=\u001b[39m answer\u001b[39m.\u001b[39mreplace(\u001b[39m\"\u001b[39m\u001b[39m！\u001b[39m\u001b[39m\"\u001b[39m,\u001b[39m\"\u001b[39m\u001b[39m！\u001b[39m\u001b[39m\\n\u001b[39;00m\u001b[39m\"\u001b[39m)\n",
      "File \u001b[1;32mc:\\Users\\rtani\\AppData\\Local\\Programs\\Python\\Python311\\Lib\\site-packages\\openai\\api_resources\\chat_completion.py:25\u001b[0m, in \u001b[0;36mChatCompletion.create\u001b[1;34m(cls, *args, **kwargs)\u001b[0m\n\u001b[0;32m     23\u001b[0m \u001b[39mwhile\u001b[39;00m \u001b[39mTrue\u001b[39;00m:\n\u001b[0;32m     24\u001b[0m     \u001b[39mtry\u001b[39;00m:\n\u001b[1;32m---> 25\u001b[0m         \u001b[39mreturn\u001b[39;00m \u001b[39msuper\u001b[39;49m()\u001b[39m.\u001b[39;49mcreate(\u001b[39m*\u001b[39;49margs, \u001b[39m*\u001b[39;49m\u001b[39m*\u001b[39;49mkwargs)\n\u001b[0;32m     26\u001b[0m     \u001b[39mexcept\u001b[39;00m TryAgain \u001b[39mas\u001b[39;00m e:\n\u001b[0;32m     27\u001b[0m         \u001b[39mif\u001b[39;00m timeout \u001b[39mis\u001b[39;00m \u001b[39mnot\u001b[39;00m \u001b[39mNone\u001b[39;00m \u001b[39mand\u001b[39;00m time\u001b[39m.\u001b[39mtime() \u001b[39m>\u001b[39m start \u001b[39m+\u001b[39m timeout:\n",
      "File \u001b[1;32mc:\\Users\\rtani\\AppData\\Local\\Programs\\Python\\Python311\\Lib\\site-packages\\openai\\api_resources\\abstract\\engine_api_resource.py:153\u001b[0m, in \u001b[0;36mEngineAPIResource.create\u001b[1;34m(cls, api_key, api_base, api_type, request_id, api_version, organization, **params)\u001b[0m\n\u001b[0;32m    127\u001b[0m \u001b[39m@classmethod\u001b[39m\n\u001b[0;32m    128\u001b[0m \u001b[39mdef\u001b[39;00m \u001b[39mcreate\u001b[39m(\n\u001b[0;32m    129\u001b[0m     \u001b[39mcls\u001b[39m,\n\u001b[1;32m   (...)\u001b[0m\n\u001b[0;32m    136\u001b[0m     \u001b[39m*\u001b[39m\u001b[39m*\u001b[39mparams,\n\u001b[0;32m    137\u001b[0m ):\n\u001b[0;32m    138\u001b[0m     (\n\u001b[0;32m    139\u001b[0m         deployment_id,\n\u001b[0;32m    140\u001b[0m         engine,\n\u001b[1;32m   (...)\u001b[0m\n\u001b[0;32m    150\u001b[0m         api_key, api_base, api_type, api_version, organization, \u001b[39m*\u001b[39m\u001b[39m*\u001b[39mparams\n\u001b[0;32m    151\u001b[0m     )\n\u001b[1;32m--> 153\u001b[0m     response, _, api_key \u001b[39m=\u001b[39m requestor\u001b[39m.\u001b[39;49mrequest(\n\u001b[0;32m    154\u001b[0m         \u001b[39m\"\u001b[39;49m\u001b[39mpost\u001b[39;49m\u001b[39m\"\u001b[39;49m,\n\u001b[0;32m    155\u001b[0m         url,\n\u001b[0;32m    156\u001b[0m         params\u001b[39m=\u001b[39;49mparams,\n\u001b[0;32m    157\u001b[0m         headers\u001b[39m=\u001b[39;49mheaders,\n\u001b[0;32m    158\u001b[0m         stream\u001b[39m=\u001b[39;49mstream,\n\u001b[0;32m    159\u001b[0m         request_id\u001b[39m=\u001b[39;49mrequest_id,\n\u001b[0;32m    160\u001b[0m         request_timeout\u001b[39m=\u001b[39;49mrequest_timeout,\n\u001b[0;32m    161\u001b[0m     )\n\u001b[0;32m    163\u001b[0m     \u001b[39mif\u001b[39;00m stream:\n\u001b[0;32m    164\u001b[0m         \u001b[39m# must be an iterator\u001b[39;00m\n\u001b[0;32m    165\u001b[0m         \u001b[39massert\u001b[39;00m \u001b[39mnot\u001b[39;00m \u001b[39misinstance\u001b[39m(response, OpenAIResponse)\n",
      "File \u001b[1;32mc:\\Users\\rtani\\AppData\\Local\\Programs\\Python\\Python311\\Lib\\site-packages\\openai\\api_requestor.py:298\u001b[0m, in \u001b[0;36mAPIRequestor.request\u001b[1;34m(self, method, url, params, headers, files, stream, request_id, request_timeout)\u001b[0m\n\u001b[0;32m    277\u001b[0m \u001b[39mdef\u001b[39;00m \u001b[39mrequest\u001b[39m(\n\u001b[0;32m    278\u001b[0m     \u001b[39mself\u001b[39m,\n\u001b[0;32m    279\u001b[0m     method,\n\u001b[1;32m   (...)\u001b[0m\n\u001b[0;32m    286\u001b[0m     request_timeout: Optional[Union[\u001b[39mfloat\u001b[39m, Tuple[\u001b[39mfloat\u001b[39m, \u001b[39mfloat\u001b[39m]]] \u001b[39m=\u001b[39m \u001b[39mNone\u001b[39;00m,\n\u001b[0;32m    287\u001b[0m ) \u001b[39m-\u001b[39m\u001b[39m>\u001b[39m Tuple[Union[OpenAIResponse, Iterator[OpenAIResponse]], \u001b[39mbool\u001b[39m, \u001b[39mstr\u001b[39m]:\n\u001b[0;32m    288\u001b[0m     result \u001b[39m=\u001b[39m \u001b[39mself\u001b[39m\u001b[39m.\u001b[39mrequest_raw(\n\u001b[0;32m    289\u001b[0m         method\u001b[39m.\u001b[39mlower(),\n\u001b[0;32m    290\u001b[0m         url,\n\u001b[1;32m   (...)\u001b[0m\n\u001b[0;32m    296\u001b[0m         request_timeout\u001b[39m=\u001b[39mrequest_timeout,\n\u001b[0;32m    297\u001b[0m     )\n\u001b[1;32m--> 298\u001b[0m     resp, got_stream \u001b[39m=\u001b[39m \u001b[39mself\u001b[39;49m\u001b[39m.\u001b[39;49m_interpret_response(result, stream)\n\u001b[0;32m    299\u001b[0m     \u001b[39mreturn\u001b[39;00m resp, got_stream, \u001b[39mself\u001b[39m\u001b[39m.\u001b[39mapi_key\n",
      "File \u001b[1;32mc:\\Users\\rtani\\AppData\\Local\\Programs\\Python\\Python311\\Lib\\site-packages\\openai\\api_requestor.py:700\u001b[0m, in \u001b[0;36mAPIRequestor._interpret_response\u001b[1;34m(self, result, stream)\u001b[0m\n\u001b[0;32m    692\u001b[0m     \u001b[39mreturn\u001b[39;00m (\n\u001b[0;32m    693\u001b[0m         \u001b[39mself\u001b[39m\u001b[39m.\u001b[39m_interpret_response_line(\n\u001b[0;32m    694\u001b[0m             line, result\u001b[39m.\u001b[39mstatus_code, result\u001b[39m.\u001b[39mheaders, stream\u001b[39m=\u001b[39m\u001b[39mTrue\u001b[39;00m\n\u001b[0;32m    695\u001b[0m         )\n\u001b[0;32m    696\u001b[0m         \u001b[39mfor\u001b[39;00m line \u001b[39min\u001b[39;00m parse_stream(result\u001b[39m.\u001b[39miter_lines())\n\u001b[0;32m    697\u001b[0m     ), \u001b[39mTrue\u001b[39;00m\n\u001b[0;32m    698\u001b[0m \u001b[39melse\u001b[39;00m:\n\u001b[0;32m    699\u001b[0m     \u001b[39mreturn\u001b[39;00m (\n\u001b[1;32m--> 700\u001b[0m         \u001b[39mself\u001b[39;49m\u001b[39m.\u001b[39;49m_interpret_response_line(\n\u001b[0;32m    701\u001b[0m             result\u001b[39m.\u001b[39;49mcontent\u001b[39m.\u001b[39;49mdecode(\u001b[39m\"\u001b[39;49m\u001b[39mutf-8\u001b[39;49m\u001b[39m\"\u001b[39;49m),\n\u001b[0;32m    702\u001b[0m             result\u001b[39m.\u001b[39;49mstatus_code,\n\u001b[0;32m    703\u001b[0m             result\u001b[39m.\u001b[39;49mheaders,\n\u001b[0;32m    704\u001b[0m             stream\u001b[39m=\u001b[39;49m\u001b[39mFalse\u001b[39;49;00m,\n\u001b[0;32m    705\u001b[0m         ),\n\u001b[0;32m    706\u001b[0m         \u001b[39mFalse\u001b[39;00m,\n\u001b[0;32m    707\u001b[0m     )\n",
      "File \u001b[1;32mc:\\Users\\rtani\\AppData\\Local\\Programs\\Python\\Python311\\Lib\\site-packages\\openai\\api_requestor.py:763\u001b[0m, in \u001b[0;36mAPIRequestor._interpret_response_line\u001b[1;34m(self, rbody, rcode, rheaders, stream)\u001b[0m\n\u001b[0;32m    761\u001b[0m stream_error \u001b[39m=\u001b[39m stream \u001b[39mand\u001b[39;00m \u001b[39m\"\u001b[39m\u001b[39merror\u001b[39m\u001b[39m\"\u001b[39m \u001b[39min\u001b[39;00m resp\u001b[39m.\u001b[39mdata\n\u001b[0;32m    762\u001b[0m \u001b[39mif\u001b[39;00m stream_error \u001b[39mor\u001b[39;00m \u001b[39mnot\u001b[39;00m \u001b[39m200\u001b[39m \u001b[39m<\u001b[39m\u001b[39m=\u001b[39m rcode \u001b[39m<\u001b[39m \u001b[39m300\u001b[39m:\n\u001b[1;32m--> 763\u001b[0m     \u001b[39mraise\u001b[39;00m \u001b[39mself\u001b[39m\u001b[39m.\u001b[39mhandle_error_response(\n\u001b[0;32m    764\u001b[0m         rbody, rcode, resp\u001b[39m.\u001b[39mdata, rheaders, stream_error\u001b[39m=\u001b[39mstream_error\n\u001b[0;32m    765\u001b[0m     )\n\u001b[0;32m    766\u001b[0m \u001b[39mreturn\u001b[39;00m resp\n",
      "\u001b[1;31mInvalidRequestError\u001b[0m: The model `gpt-4` does not exist or you do not have access to it. Learn more: https://help.openai.com/en/articles/7102672-how-can-i-access-gpt-4."
     ]
    }
   ],
   "source": [
    "import openai\n",
    "import os\n",
    "#import re\n",
    "OPENAI_API_KEY = os.environ.get(\"OPENAI_API_KEY\")\n",
    "openai.api_key = OPENAI_API_KEY\n",
    "\n",
    "client_ask = \"織田信長に会いたいです！\"\n",
    "\n",
    "exhibitions_list = [\n",
    "    \"大航海時代展(ルネサンスから始まる大航海時代について、ヴァスコ・ダ・ガマ、そしてマルコポーロの二人を中心に迫ります。)\",\n",
    "    \"中国の壺展覧会(白磁器ーそれは景徳鎮が産んだ世界最高の美。日本の有田焼やドイツのマイセンにも影響を与えたとされるその美を展示します。)\",\n",
    "    \"花の美術展(全国のボタニカル・アートを集結した一大イベントです！)\",\n",
    "    \"国際漫画展(アメコミからバンド・デシネ、そして日本の漫画まで数多の作品を展示！)\"\n",
    "]\n",
    "exhibitions_list_str = \"\"\n",
    "for exhibition in exhibitions_list:\n",
    "    exhibitions_list_str  += \"\\n・\" + exhibition \n",
    "exhibitions_list_str  += \"\\n\" #最後の改行\n",
    "#print(exhibitions_list_str)\n",
    "\n",
    "question = f\"\"\"\n",
    "あなたは日本の大阪府にいます。\n",
    "あなたは大阪大学ミュージアム同好会というサークルに所属しているロボットで、あなたの仕事はクライアントに言われた要求に最も近い展示を案内することです。\n",
    "クライアントが来て以下のようにあなたに尋ねました。\n",
    "「{client_ask}」\n",
    "\n",
    "今行われている展示は以下の{len(exhibitions_list)}個です。またカッコの中にはその展示についての説明が書いてあります。\n",
    "{exhibitions_list_str}\n",
    "このクライアントにはどの展示を勧めたらいいでしょうか？\n",
    "\n",
    "回答は「わかりました！なるほど、あなたは〜について興味があるのですね！（なにか感想を書く）そんなあなたにおすすめの展示は〜で...」のようにフレンドリーに回答してください。\n",
    "またなぜそれを選んだのかを簡単に、クライアントにわかりやすく説明してください。回答は自然で丁寧な日本語で、子供にもわかりやすように書いてください。\n",
    "一人称はミュージアム同好会」を利用してください。\n",
    "回答だけを記述してください。\n",
    "展示説明には書かれていないことを憶測して書く場合は、「おそらく〜」、「詳しはわかりませんが〜」「これは私の考えですが〜」のように自分の推測であることを記載してください。\n",
    "\n",
    "\"\"\"\n",
    "response = openai.ChatCompletion.create(\n",
    "    model=\"gpt-3.5-turbo\",\n",
    "    messages=[\n",
    "        {\"role\": \"user\", \"content\": question},\n",
    "    ],\n",
    ")\n",
    "answer = response.choices[0][\"message\"][\"content\"].strip()\n",
    "\n",
    "answer = answer.replace(\"！\",\"！\\n\")\n",
    "answer = answer.replace(\"。\",\"。\\n\")\n",
    "\n",
    "print(\"質問文:\\n\" + question)\n",
    "print(\"回答文:\\n\" + answer )"
   ]
  },
  {
   "cell_type": "code",
   "execution_count": 8,
   "metadata": {},
   "outputs": [
    {
     "name": "stdout",
     "output_type": "stream",
     "text": [
      "hello10\n"
     ]
    }
   ],
   "source": [
    "print(\"hello\" + str(10))\n",
    "\n",
    "print(f\"hello {10}\")"
   ]
  }
 ],
 "metadata": {
  "kernelspec": {
   "display_name": "Python 3",
   "language": "python",
   "name": "python3"
  },
  "language_info": {
   "codemirror_mode": {
    "name": "ipython",
    "version": 3
   },
   "file_extension": ".py",
   "mimetype": "text/x-python",
   "name": "python",
   "nbconvert_exporter": "python",
   "pygments_lexer": "ipython3",
   "version": "3.11.3"
  },
  "orig_nbformat": 4,
  "vscode": {
   "interpreter": {
    "hash": "40d3a090f54c6569ab1632332b64b2c03c39dcf918b08424e98f38b5ae0af88f"
   }
  }
 },
 "nbformat": 4,
 "nbformat_minor": 2
}
