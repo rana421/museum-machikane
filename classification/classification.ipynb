{
 "cells": [
  {
   "cell_type": "code",
   "execution_count": 41,
   "metadata": {},
   "outputs": [],
   "source": [
    "# 展示名、展示説明、展示キーワードから分類表をもとに分類する\n",
    "\n",
    "import json\n",
    "\n",
    "# 分類表の読み込み\n",
    "with open('category.json', 'r', encoding=\"utf8\") as f:\n",
    "    classification = json.load(f)\n",
    "\n",
    "category_numbers = [x[\"category_number\"] for x in classification]\n",
    "category_names = [x[\"category_name\"] for x in classification]"
   ]
  },
  {
   "cell_type": "code",
   "execution_count": 42,
   "metadata": {},
   "outputs": [
    {
     "name": "stdout",
     "output_type": "stream",
     "text": [
      "[{'category_name': '書. 書道',\n",
      "  'category_number': '728',\n",
      "  'category_reason': '展示のタイトルに「想像力から創造力へ」という表現があり、書や書道は美的な表現形式として想像力を創造力に昇華させる要素が含まれていることから、このカテゴリに分類しました。また、立原位貫が個性的な作品を創り出したという点も、書や書道の表現の個性を引き立てる要素となります。'}]\n"
     ]
    }
   ],
   "source": [
    "import openai\n",
    "import os\n",
    "from pprint import pprint\n",
    "\n",
    "OPENAI_API_KEY = os.environ.get(\"OPENAI_API_KEY\")\n",
    "openai.api_key = OPENAI_API_KEY\n",
    "\n",
    "system = \"あなたは博物館のキュレーターです。\"\n",
    "category_input = \"以下は分類表です。以下の質問についてこの表を使用して答えてください。\\n\" + \"\\n\".join([f\"{num} {name}\" for num, name in zip(category_numbers, category_names)])\n",
    "response_format = \"\"\"回答は以下の形式で行ってください。\n",
    "[{\n",
    "    \"category_number\": {category_number},\n",
    "    \"category_name\": {category_name},\n",
    "    \"category_reason\": {そのカテゴリを行った理由}\n",
    "},\n",
    "~~~\n",
    "~~~\n",
    "~~~\n",
    "{\n",
    "    \"category_number\": {category_number},\n",
    "    \"category_name\": {category_name},\n",
    "    \"category_reason\": {そのカテゴリを行った理由}\n",
    "}]\n",
    "\"\"\"\n",
    "\n",
    "\n",
    "question = \"\"\"以下与えられたJSONの展示について与えられた分類表をもとに分類してください。\n",
    "{\n",
    "    \"exhibition_name\": \"開館30周年記念　特別展 立原位貫　〜想像力から創造力へ〜\",\n",
    "    \"exhibition_description\": \"四日市ゆかりの木版画家・立原位貫（1951-2015）は、独学で江戸期浮世絵の魅力を現代に蘇らせ、さらにはオリジナルでも粋で個性的な作品を創り出しました。大英博物館に収蔵されるなど、世界に誇れる画家の足跡を辿り、その面白さ、美しさを紹介します。\",\n",
    "    \"exhibition_keywords\": None\n",
    "}\n",
    "\"\"\"\n",
    "\n",
    "messages = [\n",
    "    {\"role\": \"system\", \"content\": system},\n",
    "    {\"role\": \"system\", \"content\": category_input},\n",
    "    {\"role\": \"system\", \"content\": response_format},\n",
    "    {\"role\": \"user\", \"content\": question}\n",
    "]\n",
    "response = openai.ChatCompletion.create(\n",
    "    model=\"gpt-3.5-turbo\",\n",
    "    messages=messages\n",
    ")\n",
    "result = response.choices[0][\"message\"][\"content\"].strip()\n",
    "result_json = json.loads(result)\n",
    "pprint(result_json)\n",
    "\n",
    "print(\"分類結果\")\n",
    "for category in result_json:\n",
    "    print(f\"{category['category_number']} {category['category_name']}\")"
   ]
  }
 ],
 "metadata": {
  "kernelspec": {
   "display_name": ".venv",
   "language": "python",
   "name": "python3"
  },
  "language_info": {
   "codemirror_mode": {
    "name": "ipython",
    "version": 3
   },
   "file_extension": ".py",
   "mimetype": "text/x-python",
   "name": "python",
   "nbconvert_exporter": "python",
   "pygments_lexer": "ipython3",
   "version": "3.10.6"
  }
 },
 "nbformat": 4,
 "nbformat_minor": 2
}
