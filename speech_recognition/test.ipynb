{
 "cells": [
  {
   "cell_type": "code",
   "execution_count": null,
   "metadata": {},
   "outputs": [],
   "source": [
    "# Whisperを使ったリアルタイム音声認識と字幕描画方法の紹介 https://knowledge.sakura.ad.jp/34497/\n"
   ]
  },
  {
   "cell_type": "code",
   "execution_count": 5,
   "metadata": {},
   "outputs": [
    {
     "name": "stderr",
     "output_type": "stream",
     "text": [
      "100%|█████████████████████████████████████| 72.1M/72.1M [00:01<00:00, 58.4MiB/s]\n"
     ]
    },
    {
     "name": "stdout",
     "output_type": "stream",
     "text": [
      "さて早くに想像さえ替えされた甘済の工場なんですけれども、そのこの防災対策という事ではどのような事を進められたんでしょうか。具体的な対策としてまず、工場内の決心対策を共和しました。機会をアンカーボルドで固定したり、単位はキャグネットの展統防止、単位を行ってある自動工具の中防止を復定させました。単位には水と食料を振りた防災用品を道具し、再任の安定確認のための連絡対策もととなりました。また、甘済の販売局の大臓の防災団等根に甘なきし、単位の防災強弾や防災マニアルの作成なども進めました。などほど、まさにソフト面ハード面両方で色々な対策を進められたということですよね。そして、前としハルと秋には単位の防災困電を行っています。特に秋の困電は全社上げての大きなもので、警罭者、商房商の参加の元、橋保者による避難困電なども実施いたします。当者が普段から、商房商の組織の道にとってより、所活の北所防災から公主を埋まねきしての求明公主や組織にしております。昨年1月には、私自身も実際にできるがどうか少し不安がありましたので、リーニーの使い方や進化させます。私もエイディーの使い方が一回だけ講習を受けたのですが、やっぱり、1回やったことあるのとも、内側は全然違いもある。平日また、多くの方に受越していただきたいな、ともらう街の方に、おといを教えていただいたな、肖法序の方ですぐに受け付けいたし、よろしくお願いします。\n"
     ]
    }
   ],
   "source": [
    "#　ローカルでのwhisperの実行（GPU実行）\n",
    "import whisper\n",
    "\n",
    "UPLOAD_FOLDER = 'uploads'\n",
    "WHISPER_MODEL_NAME = 'tiny' # tiny, base, small, medium\n",
    "WHISPER_DEVICE = 'cuda' # cpu, cuda\n",
    "\n",
    "whisper_model = whisper.load_model(WHISPER_MODEL_NAME, device=WHISPER_DEVICE)\n",
    "\n",
    "filename = \"./audio/audio.wav\"\n",
    "\n",
    "result = whisper_model.transcribe(filename, language='ja')\n",
    "print(result[\"text\"])"
   ]
  },
  {
   "cell_type": "code",
   "execution_count": 2,
   "metadata": {},
   "outputs": [],
   "source": [
    "# API経由のwhisperのテスト\n",
    "import os\n",
    "from os.path import join, dirname\n",
    "#from dotenv import load_dotenv\n",
    "\n",
    "# dotenv_path = join(dirname(__file__), '../.env')\n",
    "#dotenv_path = '../.env'\n",
    "\n",
    "#load_dotenv(dotenv_path)\n",
    "\n",
    "OPENAI_API_KEY = os.environ.get(\"OPENAI_API_KEY\")\n",
    "\n",
    "\n",
    "import openai\n",
    "\n",
    "openai.api_key = OPENAI_API_KEY\n",
    "audio_file= open(\"./audio/audio.wav\", \"rb\")\n",
    "transcript = openai.Audio.transcribe(\"whisper-1\", audio_file, language=\"ja\")\n",
    "print(transcript[\"text\"])"
   ]
  },
  {
   "cell_type": "code",
   "execution_count": null,
   "metadata": {},
   "outputs": [],
   "source": []
  }
 ],
 "metadata": {
  "kernelspec": {
   "display_name": "Python 3",
   "language": "python",
   "name": "python3"
  },
  "language_info": {
   "codemirror_mode": {
    "name": "ipython",
    "version": 3
   },
   "file_extension": ".py",
   "mimetype": "text/x-python",
   "name": "python",
   "nbconvert_exporter": "python",
   "pygments_lexer": "ipython3",
   "version": "3.11.3"
  },
  "orig_nbformat": 4,
  "vscode": {
   "interpreter": {
    "hash": "40d3a090f54c6569ab1632332b64b2c03c39dcf918b08424e98f38b5ae0af88f"
   }
  }
 },
 "nbformat": 4,
 "nbformat_minor": 2
}
