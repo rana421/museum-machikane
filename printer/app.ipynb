{
 "cells": [
  {
   "cell_type": "code",
   "execution_count": null,
   "metadata": {},
   "outputs": [],
   "source": [
    "# pythonから印刷を行う\n",
    "# 参考：【Pythonで時短！】初心者でも簡単！印刷を自動化して業務効率化（https://easyful-life.com/auto-print-py/）\n",
    "# 参考：WindowsのPythonでPDFの印刷をする:外部アプリケーションを使う（https://qiita.com/hrs_sano645/items/e0fcf5d896b70822e998）"
   ]
  },
  {
   "cell_type": "code",
   "execution_count": 33,
   "metadata": {},
   "outputs": [],
   "source": [
    "from __future__ import division, print_function, absolute_import, unicode_literals\n",
    "\n",
    "import win32api\n",
    "\n",
    "# pdfファイルを開く既定のアプリケーションをpdf readerにする必要がある\n",
    "\n",
    "if __name__ == '__main__':\n",
    "    pdf_file_name = r\"C:\\\\Users\\\\ron\\Desktop\\\\museum-machikane\\\\printer\\\\print_sample.pdf\"\n",
    "    win32api.ShellExecute(0, \"print\", pdf_file_name, None, \".\", 0)"
   ]
  },
  {
   "cell_type": "code",
   "execution_count": 2,
   "metadata": {},
   "outputs": [
    {
     "name": "stdout",
     "output_type": "stream",
     "text": [
      "\"C:\\Program Files\\Adobe\\Acrobat DC\\Acrobat\\Acrobat.exe\" /n /t \"C:\\Users\\ron\\Desktop\\museum-machikane\\printer\\print_sample.pdf\" \"EW-M571T Series(ネットワーク)\"\n"
     ]
    }
   ],
   "source": [
    "import subprocess\n",
    "\n",
    "# optionの情報　http://scripting.cocolog-nifty.com/blog/2007/07/adobe_reader_81_e41e.html\n",
    "# Startup options\n",
    "# /n: Start Acrobat application as another instance when you are already running Acrobat\n",
    "# /s: start acrobat without displaying the splash screen\n",
    "# /o: Launch acrobat without displaying the Open file dialog\n",
    "# /h: Start Acrobat but do not display it (only load it in memory)\n",
    "\n",
    "def main(pdffile, printer_name):\n",
    "    # acroread = r'C:\\Program Files (x86)\\Adobe\\Reader 11.0\\Reader\\AcroRd32.exe'\n",
    "    acrobat = r'C:\\Program Files\\Adobe\\Acrobat DC\\Acrobat\\Acrobat.exe'\n",
    "\n",
    "    # '\"%s\"'is to wrap double quotes around paths\n",
    "    # as subprocess will use list2cmdline internally if we pass it a list\n",
    "    # which escapes double quotes and Adobe Reader doesn't like that\n",
    "\n",
    "    cmd = '\"{}\" /n /t \"{}\" \"{}\"'.format(acrobat, pdffile, printer_name)\n",
    "    print(cmd)\n",
    "\n",
    "    proc = subprocess.Popen(cmd, stdout=subprocess.PIPE, stderr=subprocess.PIPE)\n",
    "    stdout, stderr = proc.communicate()\n",
    "    exit_code = proc.wait()\n",
    "\n",
    "\n",
    "if __name__ == '__main__':\n",
    "    pdffile = \"./../PDFcreator/sample.pdf\"\n",
    "    printer_name = \"EW-M571T Series(ネットワーク)\"\n",
    "    main(pdffile, printer_name)"
   ]
  }
 ],
 "metadata": {
  "kernelspec": {
   "display_name": ".venv",
   "language": "python",
   "name": "python3"
  },
  "language_info": {
   "codemirror_mode": {
    "name": "ipython",
    "version": 3
   },
   "file_extension": ".py",
   "mimetype": "text/x-python",
   "name": "python",
   "nbconvert_exporter": "python",
   "pygments_lexer": "ipython3",
   "version": "3.10.6"
  }
 },
 "nbformat": 4,
 "nbformat_minor": 2
}
