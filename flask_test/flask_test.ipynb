{
 "cells": [
  {
   "cell_type": "code",
   "execution_count": 3,
   "metadata": {},
   "outputs": [
    {
     "name": "stdout",
     "output_type": "stream",
     "text": [
      " * Serving Flask app '__main__'\n",
      " * Debug mode: on\n"
     ]
    },
    {
     "name": "stderr",
     "output_type": "stream",
     "text": [
      "WARNING: This is a development server. Do not use it in a production deployment. Use a production WSGI server instead.\n",
      " * Running on all addresses (0.0.0.0)\n",
      " * Running on http://127.0.0.1:8080\n",
      " * Running on http://192.168.100.25:8080\n",
      "Press CTRL+C to quit\n",
      "127.0.0.1 - - [29/Aug/2023 18:45:46] \"GET / HTTP/1.1\" 200 -\n",
      "127.0.0.1 - - [29/Aug/2023 18:45:52] \"GET / HTTP/1.1\" 200 -\n",
      "127.0.0.1 - - [29/Aug/2023 18:45:53] \"GET / HTTP/1.1\" 200 -\n",
      "127.0.0.1 - - [29/Aug/2023 18:45:53] \"GET / HTTP/1.1\" 200 -\n",
      "127.0.0.1 - - [29/Aug/2023 18:45:53] \"GET / HTTP/1.1\" 200 -\n",
      "127.0.0.1 - - [29/Aug/2023 18:45:55] \"GET / HTTP/1.1\" 200 -\n",
      "127.0.0.1 - - [29/Aug/2023 18:46:01] \"GET / HTTP/1.1\" 200 -\n",
      "127.0.0.1 - - [29/Aug/2023 18:46:37] \"GET / HTTP/1.1\" 200 -\n",
      "192.168.100.23 - - [29/Aug/2023 18:46:37] \"GET / HTTP/1.1\" 200 -\n",
      "192.168.100.23 - - [29/Aug/2023 18:46:37] \"GET / HTTP/1.1\" 200 -\n",
      "127.0.0.1 - - [29/Aug/2023 18:46:37] \"GET / HTTP/1.1\" 200 -\n",
      "127.0.0.1 - - [29/Aug/2023 18:46:37] \"GET / HTTP/1.1\" 200 -\n",
      "127.0.0.1 - - [29/Aug/2023 18:46:38] \"GET / HTTP/1.1\" 200 -\n",
      "127.0.0.1 - - [29/Aug/2023 18:46:41] \"GET / HTTP/1.1\" 200 -\n"
     ]
    }
   ],
   "source": [
    "from flask import *\n",
    "import os\n",
    "# Flaskオブジェクトの生成 --- (*1)\n",
    "app = Flask(__name__,static_folder='./templates/')\n",
    "\n",
    "# ルート( / )へアクセスがあった時の処理を記述 --- (*2)\n",
    "@app.route(\"/\")\n",
    "def root():\n",
    "    return render_template(\"index.html\")\n",
    "\n",
    "\n",
    "if __name__ ==\"__main__\":\n",
    "    app.run(debug=True,port=8080,host='0.0.0.0',use_reloader=False, threaded=False)"
   ]
  }
 ],
 "metadata": {
  "kernelspec": {
   "display_name": "Python 3",
   "language": "python",
   "name": "python3"
  },
  "language_info": {
   "codemirror_mode": {
    "name": "ipython",
    "version": 3
   },
   "file_extension": ".py",
   "mimetype": "text/x-python",
   "name": "python",
   "nbconvert_exporter": "python",
   "pygments_lexer": "ipython3",
   "version": "3.7.6"
  },
  "orig_nbformat": 4,
  "vscode": {
   "interpreter": {
    "hash": "40d3a090f54c6569ab1632332b64b2c03c39dcf918b08424e98f38b5ae0af88f"
   }
  }
 },
 "nbformat": 4,
 "nbformat_minor": 2
}
