{
 "cells": [
  {
   "cell_type": "code",
   "execution_count": null,
   "metadata": {},
   "outputs": [],
   "source": [
    "# PythonとUnity(C#)の通信を行う\n",
    "\n",
    "# TCP通信(https://note.com/takataok/n/n09e46ef47475)\n",
    "# websocket通信()\n",
    "# 参考：https://jump1268.hatenablog.com/entry/2018/11/25/143459"
   ]
  }
 ],
 "metadata": {
  "language_info": {
   "name": "python"
  }
 },
 "nbformat": 4,
 "nbformat_minor": 2
}
